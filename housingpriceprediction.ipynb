{
 "cells": [
  {
   "cell_type": "code",
   "execution_count": 47,
   "id": "03ed4cf9",
   "metadata": {
    "collapsed": true
   },
   "outputs": [],
   "source": [
    "import warnings\n",
    "warnings.filterwarnings('ignore')"
   ]
  },
  {
   "cell_type": "code",
   "execution_count": 48,
   "id": "7fcd7f3a",
   "metadata": {
    "collapsed": true
   },
   "outputs": [],
   "source": [
    "#importing Libraries\n",
    "import numpy as np\n",
    "import seaborn as sns\n",
    "import pandas as pd\n",
    "from matplotlib import pyplot as plt\n",
    "from sklearn.linear_model import LinearRegression, Ridge\n",
    "from sklearn.pipeline import Pipeline\n",
    "from sklearn.model_selection import cross_val_score, train_test_split, GridSearchCV, KFold\n",
    "from sklearn.preprocessing import LabelEncoder, StandardScaler\n",
    "from sklearn.metrics import mean_squared_error, mean_absolute_error, r2_score\n",
    "from sklearn.tree import DecisionTreeRegressor\n",
    "from sklearn.ensemble import RandomForestRegressor, GradientBoostingRegressor"
   ]
  },
  {
   "cell_type": "code",
   "execution_count": 49,
   "id": "cc4f880f",
   "metadata": {
    "collapsed": true
   },
   "outputs": [],
   "source": [
    "# Load the housing data\n",
    "data_path = 'C:/Users/USER/Desktop/ML Materials/CognoRise Internship/Task Three/data.csv'\n",
    "housing_data = pd.read_csv(data_path)"
   ]
  },
  {
   "cell_type": "code",
   "execution_count": 50,
   "id": "b361a785",
   "metadata": {
    "collapsed": true
   },
   "outputs": [
    {
     "name": "stdout",
     "output_type": "stream",
     "text": [
      "<class 'pandas.core.frame.DataFrame'>\n",
      "RangeIndex: 4600 entries, 0 to 4599\n",
      "Data columns (total 18 columns):\n",
      " #   Column         Non-Null Count  Dtype  \n",
      "---  ------         --------------  -----  \n",
      " 0   date           4600 non-null   object \n",
      " 1   price          4600 non-null   float64\n",
      " 2   bedrooms       4600 non-null   float64\n",
      " 3   bathrooms      4600 non-null   float64\n",
      " 4   sqft_living    4600 non-null   int64  \n",
      " 5   sqft_lot       4600 non-null   int64  \n",
      " 6   floors         4600 non-null   float64\n",
      " 7   waterfront     4600 non-null   int64  \n",
      " 8   view           4600 non-null   int64  \n",
      " 9   condition      4600 non-null   int64  \n",
      " 10  sqft_above     4600 non-null   int64  \n",
      " 11  sqft_basement  4600 non-null   int64  \n",
      " 12  yr_built       4600 non-null   int64  \n",
      " 13  yr_renovated   4600 non-null   int64  \n",
      " 14  street         4600 non-null   object \n",
      " 15  city           4600 non-null   object \n",
      " 16  statezip       4600 non-null   object \n",
      " 17  country        4600 non-null   object \n",
      "dtypes: float64(4), int64(9), object(5)\n",
      "memory usage: 647.0+ KB\n"
     ]
    }
   ],
   "source": [
    "# Check for null values and data types\n",
    "housing_data.info()"
   ]
  },
  {
   "cell_type": "code",
   "execution_count": 51,
   "id": "220d7a59",
   "metadata": {
    "collapsed": true
   },
   "outputs": [],
   "source": [
    "# Encode categorical features\n",
    "label_encoder = LabelEncoder()\n",
    "for col in housing_data.select_dtypes(include=['object']).columns:\n",
    "    housing_data[col] = label_encoder.fit_transform(housing_data[col])"
   ]
  },
  {
   "cell_type": "code",
   "execution_count": 52,
   "id": "7676e5e1",
   "metadata": {
    "collapsed": true
   },
   "outputs": [],
   "source": [
    "# Select numerical features and calculate correlation with price\n",
    "corr_matrix = housing_data.corr()\n",
    "top_features = corr_matrix.index[abs(corr_matrix['price']) > 0.4]\n",
    "top_features = housing_data[top_features]"
   ]
  },
  {
   "cell_type": "code",
   "execution_count": 53,
   "id": "cca3204e",
   "metadata": {
    "collapsed": true
   },
   "outputs": [],
   "source": [
    "# Prepare the data for training\n",
    "X = top_features.drop(columns=['price'])\n",
    "y = top_features['price']\n",
    "train_X, val_X, train_y, val_y = train_test_split(X, y, test_size=0.2, random_state=0)"
   ]
  },
  {
   "cell_type": "code",
   "execution_count": 54,
   "id": "56bb99ed",
   "metadata": {
    "collapsed": true
   },
   "outputs": [],
   "source": [
    "# Standardize the data\n",
    "scaler = StandardScaler()\n",
    "train_X = scaler.fit_transform(train_X)\n",
    "val_X = scaler.transform(val_X)"
   ]
  },
  {
   "cell_type": "code",
   "execution_count": 55,
   "id": "0d2d6c54",
   "metadata": {
    "collapsed": true
   },
   "outputs": [],
   "source": [
    "# Function to evaluate models\n",
    "def evaluate_model(model, train_X, train_y, val_X, val_y):\n",
    "    model.fit(train_X, train_y)\n",
    "    predictions = model.predict(val_X)\n",
    "    mse = mean_squared_error(val_y, predictions)\n",
    "    rmse = np.sqrt(mse)\n",
    "    mae = mean_absolute_error(val_y, predictions)\n",
    "    r2 = r2_score(val_y, predictions)\n",
    "    return {'MSE': mse, 'RMSE': rmse, 'MAE': mae, 'R2': r2}"
   ]
  },
  {
   "cell_type": "code",
   "execution_count": 56,
   "id": "dcc43d60",
   "metadata": {
    "collapsed": true
   },
   "outputs": [],
   "source": [
    "# Initialize models\n",
    "models = {\n",
    "    'Linear Regression': LinearRegression(),\n",
    "    'Decision Tree': DecisionTreeRegressor(random_state=0),\n",
    "    'Random Forest': RandomForestRegressor(random_state=0),\n",
    "    'Gradient Boosting': GradientBoostingRegressor(random_state=0)\n",
    "}"
   ]
  },
  {
   "cell_type": "code",
   "execution_count": 57,
   "id": "2e5d495f",
   "metadata": {
    "collapsed": true
   },
   "outputs": [],
   "source": [
    "# Evaluate models\n",
    "results = {}\n",
    "for name, model in models.items():\n",
    "    results[name] = evaluate_model(model, train_X, train_y, val_X, val_y)\n"
   ]
  },
  {
   "cell_type": "code",
   "execution_count": 58,
   "id": "7571ee72",
   "metadata": {
    "collapsed": true
   },
   "outputs": [
    {
     "name": "stdout",
     "output_type": "stream",
     "text": [
      "Linear Regression:\n",
      " MSE: 79267882611.96358\n",
      " RMSE: 281545.52493684494\n",
      " MAE: 180338.81985087434\n",
      " R2: 0.46421948256417855\n",
      "\n",
      "Decision Tree:\n",
      " MSE: 147989621646.46497\n",
      " RMSE: 384694.1923742351\n",
      " MAE: 218308.63262618094\n",
      " R2: -0.0002784664883623833\n",
      "\n",
      "Random Forest:\n",
      " MSE: 137744085717.48837\n",
      " RMSE: 371138.90353543963\n",
      " MAE: 211702.81508957502\n",
      " R2: 0.068972261051645\n",
      "\n",
      "Gradient Boosting:\n",
      " MSE: 110086473487.67072\n",
      " RMSE: 331792.8171128343\n",
      " MAE: 195710.68523240194\n",
      " R2: 0.25591316704343103\n",
      "\n"
     ]
    }
   ],
   "source": [
    "# Display results\n",
    "for name, metrics in results.items():\n",
    "    print(f\"{name}:\\n MSE: {metrics['MSE']}\\n RMSE: {metrics['RMSE']}\\n MAE: {metrics['MAE']}\\n R2: {metrics['R2']}\\n\")\n"
   ]
  },
  {
   "cell_type": "code",
   "execution_count": 59,
   "id": "c0ad7675",
   "metadata": {
    "collapsed": true
   },
   "outputs": [
    {
     "name": "stdout",
     "output_type": "stream",
     "text": [
      "Alpha: 0.001\n",
      "Mean RMSE: 479921.7320665695\n",
      "Standard Deviation: 273456.36721808853\n",
      "\n",
      "Alpha: 0.01\n",
      "Mean RMSE: 479921.7409817472\n",
      "Standard Deviation: 273456.3477805569\n",
      "\n",
      "Alpha: 0.1\n",
      "Mean RMSE: 479921.8302051473\n",
      "Standard Deviation: 273456.1533863713\n",
      "\n",
      "Alpha: 1\n",
      "Mean RMSE: 479922.7295964484\n",
      "Standard Deviation: 273454.20755908085\n",
      "\n",
      "Alpha: 10\n",
      "Mean RMSE: 479932.4342832229\n",
      "Standard Deviation: 273434.562199554\n",
      "\n",
      "Alpha: 100\n",
      "Mean RMSE: 480095.8377860383\n",
      "Standard Deviation: 273220.7883234871\n",
      "\n",
      "Alpha: 1000\n",
      "Mean RMSE: 485282.97350416874\n",
      "Standard Deviation: 270256.9703606517\n",
      "\n"
     ]
    }
   ],
   "source": [
    "# Ridge regression with cross-validation for hyperparameter tuning\n",
    "def ridge_regression(alpha, train_X, train_y):\n",
    "    ridge = Ridge(alpha=alpha)\n",
    "    scores = cross_val_score(ridge, train_X, train_y, scoring='neg_mean_squared_error', cv=5)\n",
    "    rmse = np.sqrt(-scores)\n",
    "    return rmse\n",
    "alpha = [0.001, 0.01, 0.1, 1, 10, 100, 1000]\n",
    "for i in alpha:\n",
    "    print('Alpha:', i)\n",
    "    print('Mean RMSE:', ridge_regression(i, train_X, train_y).mean())\n",
    "    print('Standard Deviation:', ridge_regression(i, train_X, train_y).std())\n",
    "    print()"
   ]
  },
  {
   "cell_type": "code",
   "execution_count": 60,
   "id": "98a62e0f",
   "metadata": {
    "collapsed": true
   },
   "outputs": [
    {
     "name": "stdout",
     "output_type": "stream",
     "text": [
      "Max leaf nodes: 5  -> MAE: 185798.75332212908\n",
      "Max leaf nodes: 10  -> MAE: 194525.26610323132\n",
      "Max leaf nodes: 50  -> MAE: 201945.03977662878\n",
      "Max leaf nodes: 100  -> MAE: 210508.67875857075\n",
      "Max leaf nodes: 200  -> MAE: 215272.23075613703\n",
      "Max leaf nodes: 500  -> MAE: 218279.7614966232\n",
      "Max leaf nodes: 1000  -> MAE: 218308.63262618094\n"
     ]
    }
   ],
   "source": [
    "# Evaluating Decision Tree with different max_leaf_nodes\n",
    "def get_mae(max_leaf_nodes, train_X, val_X, train_y, val_y):\n",
    "    model = DecisionTreeRegressor(max_leaf_nodes=max_leaf_nodes, random_state=0)\n",
    "    model.fit(train_X, train_y)\n",
    "    preds_val = model.predict(val_X)\n",
    "    mae = mean_absolute_error(val_y, preds_val)\n",
    "    return mae\n",
    "max_leaf_nodes = [5, 10, 50, 100, 200, 500, 1000]\n",
    "for max_leaf_node in max_leaf_nodes:\n",
    "    print(\"Max leaf nodes:\", max_leaf_node, \" -> MAE:\", get_mae(max_leaf_node, train_X, val_X, train_y, val_y))\n"
   ]
  },
  {
   "cell_type": "code",
   "execution_count": null,
   "id": "c31e0911",
   "metadata": {
    "collapsed": true
   },
   "outputs": [],
   "source": []
  }
 ],
 "metadata": {
  "kernelspec": {
   "display_name": "Python 3 (ipykernel)",
   "language": "python",
   "name": "python3"
  },
  "language_info": {
   "codemirror_mode": {
    "name": "ipython",
    "version": 3
   },
   "file_extension": ".py",
   "mimetype": "text/x-python",
   "name": "python",
   "nbconvert_exporter": "python",
   "pygments_lexer": "ipython3",
   "version": "3.11.9"
  }
 },
 "nbformat": 4,
 "nbformat_minor": 5
}
